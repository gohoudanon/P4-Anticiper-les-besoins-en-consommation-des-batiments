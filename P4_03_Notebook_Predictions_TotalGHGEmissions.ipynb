{
 "cells": [
  {
   "cell_type": "markdown",
   "metadata": {},
   "source": [
    "\n",
    "# <font color=\"#1d479b\">Sommaire</font>\n",
    "   \n",
    "2. [Predictions](#section_2)     \n",
    "    2.1. [Linear Regression](#section_2_1)\n",
    "    \n",
    "    2.2. [Ridge Regression](#section_2_2)\n",
    "    \n",
    "    2.3. [SDG Regression](#section_2_3)\n",
    "    \n",
    "    2.4. [Random Forest](#section_2_4)\n",
    "    \n",
    "    2.5. [Choix hyperparametres](#section_2_5) \n",
    "    \n",
    "    2.6. [Feature Importantce](#section_2_6)\n",
    " "
   ]
  },
  {
   "cell_type": "code",
   "execution_count": 79,
   "metadata": {},
   "outputs": [],
   "source": [
    "import numpy as np\n",
    "import pandas as pd\n",
    "\n",
    "import warnings\n",
    "warnings.filterwarnings('ignore')\n",
    "\n",
    "pd.set_option('display.max_columns', 300)\n",
    "pd.set_option('display.max_rows', 1000)\n",
    "pd.set_option('display.max_colwidth', -1)"
   ]
  },
  {
   "cell_type": "code",
   "execution_count": 80,
   "metadata": {},
   "outputs": [],
   "source": [
    "df = pd.read_csv(\"data_seattle.csv\")\n",
    "df.drop(\"Unnamed: 0\", axis=1, inplace=True)\n",
    "df.head();"
   ]
  },
  {
   "cell_type": "code",
   "execution_count": 81,
   "metadata": {},
   "outputs": [],
   "source": [
    "df['Log10_SiteEnergyUse'] = np.log10(df['SiteEnergyUse'])\n",
    "df.drop(columns=['SiteEnergyUse'], axis=1, inplace=True)"
   ]
  },
  {
   "cell_type": "code",
   "execution_count": 82,
   "metadata": {},
   "outputs": [],
   "source": [
    "df.head();"
   ]
  },
  {
   "cell_type": "markdown",
   "metadata": {},
   "source": [
    "# 1. DATASET WITHOUT ENERGYSTARScore"
   ]
  },
  {
   "cell_type": "code",
   "execution_count": 83,
   "metadata": {},
   "outputs": [],
   "source": [
    "# DATASET WITH ENERGYSTARScore \n",
    "df_No_ENSTScore = df.drop(columns=[\"ENERGYSTARScore\"])"
   ]
  },
  {
   "cell_type": "code",
   "execution_count": 84,
   "metadata": {},
   "outputs": [],
   "source": [
    "df_No_ENSTScore.head();"
   ]
  },
  {
   "cell_type": "code",
   "execution_count": 85,
   "metadata": {},
   "outputs": [],
   "source": [
    "# Definition of target and features variables\n",
    "\n",
    "targets = ['Log10_SiteEnergyUse', 'TotalGHGEmissions']\n",
    "\n",
    "target1 = ['Log10_SiteEnergyUse']\n",
    "target2 = ['TotalGHGEmissions']\n",
    "\n",
    "X = df_No_ENSTScore.iloc[:, ~df_No_ENSTScore.columns.isin(targets)]\n",
    "y = df_No_ENSTScore.loc[:, target2]"
   ]
  },
  {
   "cell_type": "code",
   "execution_count": 88,
   "metadata": {},
   "outputs": [
    {
     "name": "stdout",
     "output_type": "stream",
     "text": [
      "(995, 66)\n",
      "(995, 1)\n"
     ]
    }
   ],
   "source": [
    "print(X.shape)\n",
    "print(y.shape)"
   ]
  },
  {
   "cell_type": "markdown",
   "metadata": {},
   "source": [
    "# SKLEARN DummyRegressor"
   ]
  },
  {
   "cell_type": "code",
   "execution_count": 89,
   "metadata": {},
   "outputs": [
    {
     "name": "stdout",
     "output_type": "stream",
     "text": [
      "MSE: 743265.2622788673\n",
      "RMSE: 862.1283328361661\n",
      "MAE: 231.18756473826417\n",
      "R2: 0.0\n"
     ]
    }
   ],
   "source": [
    "import numpy as np\n",
    "from sklearn.dummy import DummyRegressor\n",
    "from sklearn.metrics import mean_squared_error, mean_absolute_error, r2_score\n",
    "\n",
    "# Define your input features (X) and target (y)\n",
    "X = df_No_ENSTScore.iloc[:, ~df_No_ENSTScore.columns.isin(targets)]\n",
    "y = df_No_ENSTScore.loc[:, target2]\n",
    "\n",
    "# Fit the dummy regressor to your data\n",
    "dummy = DummyRegressor(strategy='mean')\n",
    "dummy.fit(X, y)\n",
    "\n",
    "# Predict using the fitted dummy regressor\n",
    "y_pred = dummy.predict(X)\n",
    "\n",
    "# Calculate MSE, MAE, and R-Squared metrics\n",
    "mse = mean_squared_error(y, y_pred)\n",
    "rmse = np.sqrt(mse)\n",
    "mae = mean_absolute_error(y, y_pred)\n",
    "r2 = r2_score(y, y_pred)\n",
    "\n",
    "print(\"MSE:\", mse)\n",
    "print(\"RMSE:\", rmse)\n",
    "print(\"MAE:\", mae)\n",
    "print(\"R2:\", r2)\n"
   ]
  },
  {
   "cell_type": "markdown",
   "metadata": {},
   "source": [
    "## Basic Regression"
   ]
  },
  {
   "cell_type": "markdown",
   "metadata": {},
   "source": [
    "## 1.1 Linear Regression"
   ]
  },
  {
   "cell_type": "markdown",
   "metadata": {},
   "source": [
    "- ### Best hyperparameters"
   ]
  },
  {
   "cell_type": "code",
   "execution_count": 49,
   "metadata": {},
   "outputs": [
    {
     "name": "stdout",
     "output_type": "stream",
     "text": [
      "{'fit_intercept': True, 'normalize': False}\n"
     ]
    }
   ],
   "source": [
    "from sklearn.linear_model import LinearRegression\n",
    "from sklearn.model_selection import GridSearchCV\n",
    "from sklearn.datasets import load_boston\n",
    "\n",
    "# Load the Boston Housing dataset\n",
    "boston = load_boston()\n",
    "\n",
    "# Split the dataset into features and target\n",
    "\n",
    "X = df_No_ENSTScore.iloc[:, ~df_No_ENSTScore.columns.isin(targets)]\n",
    "y = df_No_ENSTScore.loc[:, target2]\n",
    "\n",
    "# Define the model\n",
    "model = LinearRegression()\n",
    "\n",
    "# Define the hyperparameters to tune\n",
    "param_grid = {'fit_intercept': [True, False],\n",
    "              'normalize': [True, False]}\n",
    "\n",
    "# Perform the grid search\n",
    "grid = GridSearchCV(model, param_grid, cv=5)\n",
    "grid.fit(X, y)\n",
    "\n",
    "# Print the best hyperparameters\n",
    "print(grid.best_params_)\n"
   ]
  },
  {
   "cell_type": "markdown",
   "metadata": {},
   "source": [
    "- ### Liner Regression"
   ]
  },
  {
   "cell_type": "code",
   "execution_count": 50,
   "metadata": {},
   "outputs": [
    {
     "name": "stdout",
     "output_type": "stream",
     "text": [
      "RMSE: 721.6652847979146\n",
      "MSE: 653236.7671680737\n",
      "MAE: 203.38470296831744\n",
      "R^2: 0.4946643218786124\n"
     ]
    }
   ],
   "source": [
    "import numpy as np\n",
    "import pandas as pd\n",
    "from sklearn.linear_model import Ridge\n",
    "from sklearn.model_selection import cross_val_score\n",
    "from sklearn.preprocessing import RobustScaler\n",
    "from sklearn.metrics import mean_squared_error, mean_absolute_error, r2_score\n",
    "\n",
    "# Definition of target and features variables\n",
    "\n",
    "\n",
    "X = df_No_ENSTScore.iloc[:, ~df_No_ENSTScore.columns.isin(targets)]\n",
    "y = df_No_ENSTScore.loc[:, target2]\n",
    "\n",
    "# Robustly scale the features\n",
    "scaler = RobustScaler()\n",
    "X = scaler.fit_transform(X)\n",
    "\n",
    "# Fit a Ridge regression model\n",
    "reg = Ridge(fit_intercept=True, normalize=False)\n",
    "reg.fit(X, y)\n",
    "\n",
    "# Perform cross-validation\n",
    "cv_results = cross_val_score(reg, X, y, cv=5, scoring='neg_mean_squared_error')\n",
    "\n",
    "# Calculate the RMSE, MSE, MAE, and R^2\n",
    "rmse = np.sqrt(-cv_results).mean()\n",
    "mse = -cv_results.mean()\n",
    "mae = mean_absolute_error(y, reg.predict(X))\n",
    "r2 = reg.score(X, y)\n",
    "\n",
    "print(\"RMSE:\", rmse)\n",
    "print(\"MSE:\", mse)\n",
    "print(\"MAE:\", mae)\n",
    "print(\"R^2:\", r2)\n"
   ]
  },
  {
   "cell_type": "markdown",
   "metadata": {},
   "source": [
    "## 1.2. RIDGE Regression"
   ]
  },
  {
   "cell_type": "markdown",
   "metadata": {},
   "source": [
    "- ### Best hyperparameters"
   ]
  },
  {
   "cell_type": "code",
   "execution_count": 51,
   "metadata": {},
   "outputs": [
    {
     "name": "stdout",
     "output_type": "stream",
     "text": [
      "{'alpha': 10.0, 'fit_intercept': True, 'normalize': True, 'solver': 'auto'}\n"
     ]
    }
   ],
   "source": [
    "from sklearn.linear_model import Ridge\n",
    "from sklearn.model_selection import GridSearchCV\n",
    "from sklearn.datasets import load_boston\n",
    "\n",
    "# Load the Boston Housing dataset\n",
    "\n",
    "# Split the dataset into features and target\n",
    "X = df_No_ENSTScore.iloc[:, ~df_No_ENSTScore.columns.isin(targets)]\n",
    "y = df_No_ENSTScore.loc[:, target2]\n",
    "\n",
    "# Define the model\n",
    "model = Ridge()\n",
    "\n",
    "# Define the hyperparameters to tune\n",
    "param_grid = {'alpha': [0.01, 0.1, 1.0, 10.0],\n",
    "              'fit_intercept': [True, False],\n",
    "              'normalize': [True, False],\n",
    "              'solver': ['auto', 'svd', 'cholesky', 'lsqr', 'sparse_cg']}\n",
    "\n",
    "# Perform the grid search\n",
    "grid = GridSearchCV(model, param_grid, cv=5)\n",
    "grid.fit(X, y)\n",
    "\n",
    "# Print the best hyperparameters\n",
    "print(grid.best_params_)"
   ]
  },
  {
   "cell_type": "markdown",
   "metadata": {},
   "source": [
    "- ### RIDGE Regression"
   ]
  },
  {
   "cell_type": "code",
   "execution_count": 13,
   "metadata": {},
   "outputs": [
    {
     "name": "stdout",
     "output_type": "stream",
     "text": [
      "RMSE: 657.9024186034014\n",
      "MSE: 677579.0230219506\n",
      "MAE: 202.79437198048421\n",
      "R^2: 0.1413688546456593\n"
     ]
    }
   ],
   "source": [
    "import numpy as np\n",
    "import pandas as pd\n",
    "from sklearn.linear_model import Ridge\n",
    "from sklearn.model_selection import cross_val_score\n",
    "from sklearn.preprocessing import RobustScaler\n",
    "from sklearn.metrics import mean_squared_error, mean_absolute_error, r2_score\n",
    "\n",
    "# Definition of target and features variables\n",
    "X = df_No_ENSTScore.iloc[:, ~df_No_ENSTScore.columns.isin(targets)]\n",
    "y = df_No_ENSTScore.loc[:, target2]\n",
    "\n",
    "# Robustly scale the features\n",
    "scaler = RobustScaler()\n",
    "X = scaler.fit_transform(X)\n",
    "\n",
    "# Fit a Ridge regression model\n",
    "reg = Ridge(alpha=10.0, fit_intercept= True, normalize= True, solver= 'auto')\n",
    "reg.fit(X, y)\n",
    "\n",
    "# Perform cross-validation\n",
    "cv_results = cross_val_score(reg, X, y, cv=5, scoring='neg_mean_squared_error')\n",
    "\n",
    "# Calculate the RMSE, MSE, MAE, and R^2\n",
    "rmse = np.sqrt(-cv_results).mean()\n",
    "mse = -cv_results.mean()\n",
    "mae = mean_absolute_error(y, reg.predict(X))\n",
    "r2 = reg.score(X, y)\n",
    "\n",
    "print(\"RMSE:\", rmse)\n",
    "print(\"MSE:\", mse)\n",
    "print(\"MAE:\", mae)\n",
    "print(\"R^2:\", r2)\n"
   ]
  },
  {
   "cell_type": "markdown",
   "metadata": {},
   "source": [
    "## 1.3. SGDRegression"
   ]
  },
  {
   "cell_type": "markdown",
   "metadata": {},
   "source": [
    "- ### Best hyperparameters"
   ]
  },
  {
   "cell_type": "code",
   "execution_count": 52,
   "metadata": {},
   "outputs": [
    {
     "name": "stdout",
     "output_type": "stream",
     "text": [
      "{'alpha': 0.001, 'fit_intercept': False, 'l1_ratio': 0.25, 'max_iter': 1000, 'penalty': 'elasticnet', 'tol': 0.0001}\n"
     ]
    }
   ],
   "source": [
    "from sklearn.linear_model import SGDRegressor\n",
    "from sklearn.model_selection import GridSearchCV\n",
    "from sklearn.datasets import load_boston\n",
    "\n",
    "\n",
    "# Split the dataset into features and target\n",
    "\n",
    "X = df_No_ENSTScore.iloc[:, ~df_No_ENSTScore.columns.isin(targets)]\n",
    "y = df_No_ENSTScore.loc[:, target2]\n",
    "\n",
    "# Define the model\n",
    "model = SGDRegressor()\n",
    "\n",
    "# Define the hyperparameters to tune\n",
    "param_grid = {'alpha': [0.0001, 0.001, 0.01, 0.1],\n",
    "              'l1_ratio': [0.15, 0.25, 0.5, 0.75],\n",
    "              'penalty': ['l2', 'l1', 'elasticnet'],\n",
    "              'fit_intercept': [True, False],\n",
    "              'max_iter': [1000, 2000, 3000],\n",
    "              'tol': [1e-3, 1e-4, 1e-5]}\n",
    "\n",
    "# Perform the grid search\n",
    "grid = GridSearchCV(model, param_grid, cv=5)\n",
    "grid.fit(X, y)\n",
    "\n",
    "# Print the best hyperparameters\n",
    "print(grid.best_params_)\n"
   ]
  },
  {
   "cell_type": "markdown",
   "metadata": {},
   "source": [
    "- ### SGDRegression"
   ]
  },
  {
   "cell_type": "code",
   "execution_count": 53,
   "metadata": {},
   "outputs": [
    {
     "name": "stdout",
     "output_type": "stream",
     "text": [
      "RMSE: 559.0581325179432\n",
      "MSE: 557250.5467245199\n",
      "MAE: 200.33519687268793\n",
      "R^2: 0.44331577925221843\n"
     ]
    }
   ],
   "source": [
    "import numpy as np\n",
    "import pandas as pd\n",
    "from sklearn.linear_model import SGDRegressor\n",
    "from sklearn.model_selection import cross_val_score\n",
    "from sklearn.preprocessing import RobustScaler\n",
    "from sklearn.metrics import mean_squared_error, mean_absolute_error, r2_score\n",
    "\n",
    "X = df_No_ENSTScore.iloc[:, ~df_No_ENSTScore.columns.isin(targets)]\n",
    "y = df_No_ENSTScore.loc[:, target2]\n",
    "\n",
    "# Robustly scale the features\n",
    "scaler = RobustScaler()\n",
    "X = scaler.fit_transform(X)\n",
    "\n",
    "# Fit a linear regression model using Stochastic Gradient Descent (SGD)\n",
    "reg = SGDRegressor(alpha=0.001, fit_intercept=False, l1_ratio=0.25, max_iter=1000, penalty='elasticnet', tol=0.0001)\n",
    "reg.fit(X, y)\n",
    "\n",
    "# Perform cross-validation\n",
    "cv_results = cross_val_score(reg, X, y, cv=10, scoring='neg_mean_squared_error')\n",
    "\n",
    "# Calculate the RMSE, MSE, MAE, and R^2\n",
    "rmse = np.sqrt(-cv_results).mean()\n",
    "mse = -cv_results.mean()\n",
    "mae = mean_absolute_error(y, reg.predict(X))\n",
    "r2 = reg.score(X, y)\n",
    "\n",
    "print(\"RMSE:\", rmse)\n",
    "print(\"MSE:\", mse)\n",
    "print(\"MAE:\", mae)\n",
    "print(\"R^2:\", r2)"
   ]
  },
  {
   "cell_type": "markdown",
   "metadata": {},
   "source": [
    "## 1.3. Random Forest"
   ]
  },
  {
   "cell_type": "markdown",
   "metadata": {},
   "source": [
    "- ### Best hyperparameters"
   ]
  },
  {
   "cell_type": "code",
   "execution_count": 10,
   "metadata": {},
   "outputs": [
    {
     "name": "stdout",
     "output_type": "stream",
     "text": [
      "{'max_depth': 15, 'max_features': 'log2', 'min_samples_leaf': 1, 'min_samples_split': 2, 'n_estimators': 50}\n"
     ]
    }
   ],
   "source": [
    "from sklearn.ensemble import RandomForestRegressor\n",
    "from sklearn.model_selection import GridSearchCV\n",
    "\n",
    "\n",
    "# Split the dataset into features and target\n",
    "X = df_No_ENSTScore.iloc[:, ~df_No_ENSTScore.columns.isin(targets)]\n",
    "y = df_No_ENSTScore.loc[:, target2]\n",
    "\n",
    "# Define the model\n",
    "model = RandomForestRegressor()\n",
    "\n",
    "# Define the hyperparameters to tune\n",
    "param_grid = {'n_estimators': [50, 100, 150, 200],\n",
    "              'max_depth': [5, 10, 15, None],\n",
    "              'min_samples_split': [2, 5, 10],\n",
    "              'min_samples_leaf': [1, 2, 4],\n",
    "              'max_features': ['auto', 'sqrt', 'log2']}\n",
    "\n",
    "# Perform the grid search\n",
    "grid = GridSearchCV(model, param_grid, cv=5)\n",
    "grid.fit(X, y)\n",
    "\n",
    "# Print the best hyperparameters\n",
    "print(grid.best_params_)"
   ]
  },
  {
   "cell_type": "markdown",
   "metadata": {},
   "source": [
    "- ### Random Forest Regression"
   ]
  },
  {
   "cell_type": "code",
   "execution_count": 35,
   "metadata": {},
   "outputs": [
    {
     "name": "stdout",
     "output_type": "stream",
     "text": [
      "RMSE: 462.0442521216943\n",
      "MSE: 494227.2792605365\n",
      "MAE: 65.04316302687027\n",
      "R^2: 0.9118557304095781\n"
     ]
    }
   ],
   "source": [
    "import numpy as np\n",
    "import pandas as pd\n",
    "from sklearn.ensemble import RandomForestRegressor\n",
    "from sklearn.model_selection import cross_val_score\n",
    "from sklearn.preprocessing import RobustScaler\n",
    "from sklearn.metrics import mean_squared_error, mean_absolute_error, r2_score\n",
    "\n",
    "\n",
    "X = df_No_ENSTScore.iloc[:, ~df_No_ENSTScore.columns.isin(targets)]\n",
    "y = df_No_ENSTScore.loc[:, target2]\n",
    "\n",
    "# Robustly scale the features\n",
    "scaler = RobustScaler()\n",
    "X = scaler.fit_transform(X)\n",
    "\n",
    "# Fit a Random Forest regression model\n",
    "reg = RandomForestRegressor(max_depth=15, max_features='log2', min_samples_leaf= 1, min_samples_split=2, n_estimators=50)\n",
    "reg.fit(X, y)\n",
    "\n",
    "# Perform cross-validation\n",
    "cv_results = cross_val_score(reg, X, y, cv=10, scoring='neg_mean_squared_error')\n",
    "\n",
    "# Calculate the RMSE, MSE, MAE, and R^2\n",
    "rmse = np.sqrt(-cv_results).mean()\n",
    "mse = -cv_results.mean()\n",
    "mae = mean_absolute_error(y, reg.predict(X))\n",
    "r2 = reg.score(X, y)\n",
    "\n",
    "print(\"RMSE:\", rmse)\n",
    "print(\"MSE:\", mse)\n",
    "print(\"MAE:\", mae)\n",
    "print(\"R^2:\", r2)\n"
   ]
  },
  {
   "cell_type": "markdown",
   "metadata": {},
   "source": [
    "### Best Model"
   ]
  },
  {
   "cell_type": "code",
   "execution_count": 36,
   "metadata": {},
   "outputs": [
    {
     "data": {
      "image/png": "[encoded data removed]",
      "text/plain": [
       "<Figure size 640x480 with 1 Axes>"
      ]
     },
     "metadata": {},
     "output_type": "display_data"
    }
   ],
   "source": [
    "import seaborn as sns\n",
    "import matplotlib.pyplot as plt\n",
    "import pandas as pd\n",
    "\n",
    "# Create a dataframe with your data\n",
    "data = {\"Algorithm\": [\"Linear Regression\", \"Ridge model\", \"SGDRegressor\", \"Random Forest\"], \"Rsquared\": [0.49, 0.14, 0.42, 0.91]}\n",
    "df = pd.DataFrame(data)\n",
    "\n",
    "sns.set_style(\"darkgrid\")\n",
    "\n",
    "# Create a bar plot using seaborn\n",
    "ax = sns.barplot(x=\"Algorithm\", y=\"Rsquared\", data=df, palette=\"rocket\")\n",
    "\n",
    "\n",
    "# Add the values on top of the bars\n",
    "for i, value in enumerate(df[\"Rsquared\"]):\n",
    "    ax.annotate(\"%.2f\" % value, xy=(i, value), xytext=(0, 10), textcoords=\"offset points\", ha=\"center\")\n",
    "\n",
    "\n",
    "# Set the x and y labels\n",
    "plt.xlabel(\"Algorithm\", fontsize=14)\n",
    "plt.ylabel(\"R Squared\", fontsize=14)\n",
    "\n",
    "# Show the plot\n",
    "plt.show()"
   ]
  },
  {
   "cell_type": "code",
   "execution_count": 37,
   "metadata": {},
   "outputs": [
    {
     "data": {
      "image/png": "[encoded data removed]",
      "text/plain": [
       "<Figure size 640x480 with 1 Axes>"
      ]
     },
     "metadata": {},
     "output_type": "display_data"
    }
   ],
   "source": [
    "import seaborn as sns\n",
    "import matplotlib.pyplot as plt\n",
    "import pandas as pd\n",
    "\n",
    "# Create a dataframe with your data\n",
    "data = {\"Algorithm\": [\"Linear Regression\", \"Ridge model\", \"SGDRegressor\", \"Random Forest\"], \"MAE\":[203, 202, 208, 65]}\n",
    "df = pd.DataFrame(data)\n",
    "\n",
    "sns.set_style(\"darkgrid\")\n",
    "\n",
    "# Create a bar plot using seaborn\n",
    "ax = sns.barplot(x=\"Algorithm\", y=\"MAE\", data=df, palette=\"rocket\")\n",
    "\n",
    "\n",
    "# Add the values on top of the bars\n",
    "for i, value in enumerate(df[\"MAE\"]):\n",
    "    ax.annotate(\"%.2f\" % value, xy=(i, value), xytext=(0, 10), textcoords=\"offset points\", ha=\"center\")\n",
    "\n",
    "\n",
    "# Show the plot\n",
    "plt.show()\n"
   ]
  },
  {
   "cell_type": "markdown",
   "metadata": {},
   "source": [
    "## Feature Importance sans Energy Star Score\n",
    "\n",
    "Les variables ci-dessous comptent pour plus de 80% de la prévision :\n",
    "- LargestPropertyUseType_Hospital (General Medical & Surgical): 0.1842\n",
    "- PrimaryPropertyType_Hospital: 0.1741\n",
    "- BuildingType_Campus: 0.1252\n",
    "- GFAPerBuilding: 0.0890\n",
    "- GFAPerFloor: 0.0740\n",
    "- ZipCode: 0.0579\n",
    "- Neighborhood_East: 0.0499\n",
    "- Address_Way: 0.0407\n",
    "- YearBuilt"
   ]
  },
  {
   "cell_type": "code",
   "execution_count": 73,
   "metadata": {},
   "outputs": [],
   "source": [
    "from sklearn.ensemble import RandomForestRegressor\n",
    "\n",
    "\n",
    "# Split the dataset into features and target\n",
    "X = df_No_ENSTScore.iloc[:, ~df_No_ENSTScore.columns.isin(targets)]\n",
    "y = df_No_ENSTScore.loc[:, target2]\n",
    "\n",
    "# Define the model\n",
    "model = RandomForestRegressor()\n",
    "\n",
    "# Train the model on the data\n",
    "model.fit(X, y)\n",
    "\n",
    "# Get the feature importances\n",
    "importances = model.feature_importances_\n",
    "\n",
    "# Get the column names\n",
    "feature_names = X.columns\n",
    "\n",
    "# Sort the feature importances in descending order\n",
    "indices = importances.argsort()[::-1]\n",
    "\n",
    "# Print the feature importances and column names in descending order\n",
    "for i in indices:\n",
    "    print(\"{}: {:.4f}\".format(feature_names[i], importances[i]))\n"
   ]
  },
  {
   "cell_type": "code",
   "execution_count": 2,
   "metadata": {},
   "outputs": [
    {
     "data": {
      "image/png": "[encoded data removed]",
      "text/plain": [
       "<Figure size 640x480 with 1 Axes>"
      ]
     },
     "metadata": {},
     "output_type": "display_data"
    }
   ],
   "source": [
    "import matplotlib.pyplot as plt\n",
    "\n",
    "# Feature names and values\n",
    "feature_names = [\"LargestPropertyUseType_Hospital\", \"PrimaryPropertyType_Hospital\", \"BuildingType_Campus\",\n",
    "                 \"GFAPerBuilding\", \"GFAPerFloor\", \"ZipCode\", \"Neighborhood_East\", \"Address_Way\"]\n",
    "feature_values = [0.1842, 0.1741, 0.1252, 0.0890, 0.0740, 0.0579, 0.0499, 0.0407]\n",
    "\n",
    "# Plot the histogram\n",
    "plt.bar(feature_names, feature_values)\n",
    "plt.title(\"Histogram of Features\")\n",
    "plt.xlabel(\"Features\")\n",
    "plt.ylabel(\"Feature Values\")\n",
    "\n",
    "# Rotate x-axis labels\n",
    "plt.xticks(rotation=90)\n",
    "\n",
    "# Add numbers on top of each feature bar\n",
    "for i, val in enumerate(feature_values):\n",
    "    plt.text(i, val, str(val), horizontalalignment='center', verticalalignment='bottom')\n",
    "\n",
    "# Display the plot\n",
    "plt.show()\n"
   ]
  },
  {
   "cell_type": "markdown",
   "metadata": {},
   "source": [
    "# 2. DATASET WITH ENERGYSTARScore"
   ]
  },
  {
   "cell_type": "code",
   "execution_count": 90,
   "metadata": {},
   "outputs": [],
   "source": [
    "df_with_ENSTScore = df.copy()\n",
    "df_with_ENSTScore.head();"
   ]
  },
  {
   "cell_type": "code",
   "execution_count": 91,
   "metadata": {},
   "outputs": [],
   "source": [
    "# Definition of target and features variables\n",
    "\n",
    "targets = ['Log10_SiteEnergyUse', 'TotalGHGEmissions']\n",
    "\n",
    "target1 = ['Log10_SiteEnergyUse']\n",
    "target2 = ['TotalGHGEmissions']\n",
    "\n",
    "X = df_with_ENSTScore.iloc[:, ~df_with_ENSTScore.columns.isin(targets)]\n",
    "y = df_with_ENSTScore.loc[:, target2]"
   ]
  },
  {
   "cell_type": "markdown",
   "metadata": {},
   "source": [
    "# SKLEARN DummyRegressor"
   ]
  },
  {
   "cell_type": "code",
   "execution_count": 92,
   "metadata": {},
   "outputs": [
    {
     "name": "stdout",
     "output_type": "stream",
     "text": [
      "MSE: 743265.2622788673\n",
      "RMSE: 862.1283328361661\n",
      "MAE: 231.18756473826417\n",
      "R2: 0.0\n"
     ]
    }
   ],
   "source": [
    "import numpy as np\n",
    "from sklearn.dummy import DummyRegressor\n",
    "from sklearn.metrics import mean_squared_error, mean_absolute_error, r2_score\n",
    "\n",
    "# Define your input features (X) and target (y)\n",
    "X = df_with_ENSTScore.iloc[:, ~df_with_ENSTScore.columns.isin(targets)]\n",
    "y = df_with_ENSTScore.loc[:, target2]\n",
    "\n",
    "# Fit the dummy regressor to your data\n",
    "dummy = DummyRegressor(strategy='mean')\n",
    "dummy.fit(X, y)\n",
    "\n",
    "# Predict using the fitted dummy regressor\n",
    "y_pred = dummy.predict(X)\n",
    "\n",
    "# Calculate MSE, MAE, and R-Squared metrics\n",
    "mse = mean_squared_error(y, y_pred)\n",
    "rmse = np.sqrt(mse)\n",
    "mae = mean_absolute_error(y, y_pred)\n",
    "r2 = r2_score(y, y_pred)\n",
    "\n",
    "print(\"MSE:\", mse)\n",
    "print(\"RMSE:\", rmse)\n",
    "print(\"MAE:\", mae)\n",
    "print(\"R2:\", r2)"
   ]
  },
  {
   "cell_type": "markdown",
   "metadata": {},
   "source": [
    "## Linear Regression"
   ]
  },
  {
   "cell_type": "markdown",
   "metadata": {},
   "source": [
    "## 2.1. Linear Regression"
   ]
  },
  {
   "cell_type": "markdown",
   "metadata": {},
   "source": [
    "- ### Best hyperparameters"
   ]
  },
  {
   "cell_type": "code",
   "execution_count": 57,
   "metadata": {},
   "outputs": [
    {
     "name": "stdout",
     "output_type": "stream",
     "text": [
      "{'fit_intercept': True, 'normalize': False}\n"
     ]
    }
   ],
   "source": [
    "from sklearn.linear_model import LinearRegression\n",
    "from sklearn.model_selection import GridSearchCV\n",
    "from sklearn.datasets import load_boston\n",
    "\n",
    "# Load the Boston Housing dataset\n",
    "boston = load_boston()\n",
    "\n",
    "# Split the dataset into features and target\n",
    "\n",
    "X = df_with_ENSTScore.iloc[:, ~df_with_ENSTScore.columns.isin(targets)]\n",
    "y = df_with_ENSTScore.loc[:, target2]\n",
    "\n",
    "# Define the model\n",
    "model = LinearRegression()\n",
    "\n",
    "# Define the hyperparameters to tune\n",
    "param_grid = {'fit_intercept': [True, False],\n",
    "              'normalize': [True, False]}\n",
    "\n",
    "# Perform the grid search\n",
    "grid = GridSearchCV(model, param_grid, cv=5)\n",
    "grid.fit(X, y)\n",
    "\n",
    "# Print the best hyperparameters\n",
    "print(grid.best_params_)\n"
   ]
  },
  {
   "cell_type": "markdown",
   "metadata": {},
   "source": [
    "- ### Linear Regression"
   ]
  },
  {
   "cell_type": "code",
   "execution_count": 93,
   "metadata": {},
   "outputs": [
    {
     "name": "stdout",
     "output_type": "stream",
     "text": [
      "RMSE: 720.7229464306413\n",
      "MSE: 647431.8979360878\n",
      "MAE: 208.05228392491975\n",
      "R^2: 0.5030473720262003\n"
     ]
    }
   ],
   "source": [
    "import numpy as np\n",
    "import pandas as pd\n",
    "from sklearn.linear_model import Ridge\n",
    "from sklearn.model_selection import cross_val_score\n",
    "from sklearn.preprocessing import RobustScaler\n",
    "from sklearn.metrics import mean_squared_error, mean_absolute_error, r2_score\n",
    "\n",
    "# Definition of target and features variables\n",
    "\n",
    "X = df_with_ENSTScore.iloc[:, ~df_with_ENSTScore.columns.isin(targets)]\n",
    "y = df_with_ENSTScore.loc[:, target2]\n",
    "\n",
    "\n",
    "# Robustly scale the features\n",
    "scaler = RobustScaler()\n",
    "X = scaler.fit_transform(X)\n",
    "\n",
    "# Fit a Ridge regression model\n",
    "reg = Ridge(fit_intercept=True, normalize=False)\n",
    "reg.fit(X, y)\n",
    "\n",
    "# Perform cross-validation\n",
    "cv_results = cross_val_score(reg, X, y, cv=5, scoring='neg_mean_squared_error')\n",
    "\n",
    "# Calculate the RMSE, MSE, MAE, and R^2\n",
    "rmse = np.sqrt(-cv_results).mean()\n",
    "mse = -cv_results.mean()\n",
    "mae = mean_absolute_error(y, reg.predict(X))\n",
    "r2 = reg.score(X, y)\n",
    "\n",
    "print(\"RMSE:\", rmse)\n",
    "print(\"MSE:\", mse)\n",
    "print(\"MAE:\", mae)\n",
    "print(\"R^2:\", r2)\n"
   ]
  },
  {
   "cell_type": "markdown",
   "metadata": {},
   "source": [
    "## 2.2. Ridge Regression"
   ]
  },
  {
   "cell_type": "markdown",
   "metadata": {},
   "source": [
    "- ### Best hyperparameters"
   ]
  },
  {
   "cell_type": "code",
   "execution_count": 59,
   "metadata": {},
   "outputs": [
    {
     "name": "stdout",
     "output_type": "stream",
     "text": [
      "{'alpha': 10.0, 'fit_intercept': True, 'normalize': True, 'solver': 'svd'}\n"
     ]
    }
   ],
   "source": [
    "from sklearn.linear_model import Ridge\n",
    "from sklearn.model_selection import GridSearchCV\n",
    "from sklearn.datasets import load_boston\n",
    "\n",
    "# Load the Boston Housing dataset\n",
    "\n",
    "# Split the dataset into features and target\n",
    "X = df_with_ENSTScore.iloc[:, ~df_with_ENSTScore.columns.isin(targets)]\n",
    "y = df_with_ENSTScore.loc[:, target2]\n",
    "\n",
    "# Define the model\n",
    "model = Ridge()\n",
    "\n",
    "# Define the hyperparameters to tune\n",
    "param_grid = {'alpha': [0.01, 0.1, 1.0, 10.0],\n",
    "              'fit_intercept': [True, False],\n",
    "              'normalize': [True, False],\n",
    "              'solver': ['auto', 'svd', 'cholesky', 'lsqr', 'sparse_cg']}\n",
    "\n",
    "# Perform the grid search\n",
    "grid = GridSearchCV(model, param_grid, cv=5)\n",
    "grid.fit(X, y)\n",
    "\n",
    "# Print the best hyperparameters\n",
    "print(grid.best_params_)"
   ]
  },
  {
   "cell_type": "markdown",
   "metadata": {},
   "source": [
    "- ### Ridge Regression"
   ]
  },
  {
   "cell_type": "code",
   "execution_count": 94,
   "metadata": {},
   "outputs": [
    {
     "name": "stdout",
     "output_type": "stream",
     "text": [
      "RMSE: 657.6576870414414\n",
      "MSE: 677243.6482608651\n",
      "MAE: 202.15524445265106\n",
      "R^2: 0.1430428974969492\n"
     ]
    }
   ],
   "source": [
    "import numpy as np\n",
    "import pandas as pd\n",
    "from sklearn.linear_model import Ridge\n",
    "from sklearn.model_selection import cross_val_score\n",
    "from sklearn.preprocessing import RobustScaler\n",
    "from sklearn.metrics import mean_squared_error, mean_absolute_error, r2_score\n",
    "\n",
    "# Definition of target and features variables\n",
    "\n",
    "X = df_with_ENSTScore.iloc[:, ~df_with_ENSTScore.columns.isin(targets)]\n",
    "y = df_with_ENSTScore.loc[:, target2]\n",
    "\n",
    "\n",
    "# Robustly scale the features\n",
    "scaler = RobustScaler()\n",
    "X = scaler.fit_transform(X)\n",
    "\n",
    "# Fit a Ridge regression model\n",
    "reg = Ridge(alpha=10, fit_intercept=True, normalize=True, solver = 'svd')\n",
    "reg.fit(X, y)\n",
    "\n",
    "# Perform cross-validation\n",
    "cv_results = cross_val_score(reg, X, y, cv=5, scoring='neg_mean_squared_error')\n",
    "\n",
    "# Calculate the RMSE, MSE, MAE, and R^2\n",
    "rmse = np.sqrt(-cv_results).mean()\n",
    "mse = -cv_results.mean()\n",
    "mae = mean_absolute_error(y, reg.predict(X))\n",
    "r2 = reg.score(X, y)\n",
    "\n",
    "print(\"RMSE:\", rmse)\n",
    "print(\"MSE:\", mse)\n",
    "print(\"MAE:\", mae)\n",
    "print(\"R^2:\", r2)\n"
   ]
  },
  {
   "cell_type": "markdown",
   "metadata": {},
   "source": [
    "## 2.2. SGDRegression"
   ]
  },
  {
   "cell_type": "markdown",
   "metadata": {},
   "source": [
    "- ### Best hyperparameters"
   ]
  },
  {
   "cell_type": "code",
   "execution_count": 60,
   "metadata": {},
   "outputs": [
    {
     "name": "stdout",
     "output_type": "stream",
     "text": [
      "{'alpha': 0.01, 'fit_intercept': True, 'l1_ratio': 0.75, 'max_iter': 1000, 'penalty': 'l2', 'tol': 0.0001}\n"
     ]
    }
   ],
   "source": [
    "from sklearn.linear_model import SGDRegressor\n",
    "from sklearn.model_selection import GridSearchCV\n",
    "from sklearn.datasets import load_boston\n",
    "\n",
    "\n",
    "# Split the dataset into features and target\n",
    "\n",
    "X = df_with_ENSTScore.iloc[:, ~df_with_ENSTScore.columns.isin(targets)]\n",
    "y = df_with_ENSTScore.loc[:, target2]\n",
    "\n",
    "# Define the model\n",
    "model = SGDRegressor()\n",
    "\n",
    "# Define the hyperparameters to tune\n",
    "param_grid = {'alpha': [0.0001, 0.001, 0.01, 0.1],\n",
    "              'l1_ratio': [0.15, 0.25, 0.5, 0.75],\n",
    "              'penalty': ['l2', 'l1', 'elasticnet'],\n",
    "              'fit_intercept': [True, False],\n",
    "              'max_iter': [1000, 2000, 3000],\n",
    "              'tol': [1e-3, 1e-4, 1e-5]}\n",
    "\n",
    "# Perform the grid search\n",
    "grid = GridSearchCV(model, param_grid, cv=5)\n",
    "grid.fit(X, y)\n",
    "\n",
    "# Print the best hyperparameters\n",
    "print(grid.best_params_)"
   ]
  },
  {
   "cell_type": "markdown",
   "metadata": {},
   "source": [
    "- ### SGD Regression"
   ]
  },
  {
   "cell_type": "code",
   "execution_count": 95,
   "metadata": {},
   "outputs": [
    {
     "name": "stdout",
     "output_type": "stream",
     "text": [
      "RMSE: 557.6396724954021\n",
      "MSE: 599311.1392989152\n",
      "MAE: 200.01215628168538\n",
      "R^2: 0.40261069942757033\n"
     ]
    }
   ],
   "source": [
    "import numpy as np\n",
    "import pandas as pd\n",
    "from sklearn.linear_model import SGDRegressor\n",
    "from sklearn.model_selection import cross_val_score\n",
    "from sklearn.preprocessing import RobustScaler\n",
    "from sklearn.metrics import mean_squared_error, mean_absolute_error, r2_score\n",
    "\n",
    "X = df_with_ENSTScore.iloc[:, ~df_with_ENSTScore.columns.isin(targets)]\n",
    "y = df_with_ENSTScore.loc[:, target2]\n",
    "\n",
    "# Robustly scale the features\n",
    "scaler = RobustScaler()\n",
    "X = scaler.fit_transform(X)\n",
    "\n",
    "# Fit a linear regression model using Stochastic Gradient Descent (SGD)\n",
    "reg = SGDRegressor(alpha=0.01, fit_intercept=False, l1_ratio=0.75, max_iter=1000, penalty='l2', tol=0.0001)\n",
    "reg.fit(X, y)\n",
    "\n",
    "# Perform cross-validation\n",
    "cv_results = cross_val_score(reg, X, y, cv=10, scoring='neg_mean_squared_error')\n",
    "\n",
    "# Calculate the RMSE, MSE, MAE, and R^2\n",
    "rmse = np.sqrt(-cv_results).mean()\n",
    "mse = -cv_results.mean()\n",
    "mae = mean_absolute_error(y, reg.predict(X))\n",
    "r2 = reg.score(X, y)\n",
    "\n",
    "print(\"RMSE:\", rmse)\n",
    "print(\"MSE:\", mse)\n",
    "print(\"MAE:\", mae)\n",
    "print(\"R^2:\", r2)\n"
   ]
  },
  {
   "cell_type": "markdown",
   "metadata": {},
   "source": [
    "## 2.3. Random Forest"
   ]
  },
  {
   "cell_type": "markdown",
   "metadata": {},
   "source": [
    "- ### Best hyperparameters"
   ]
  },
  {
   "cell_type": "code",
   "execution_count": 62,
   "metadata": {},
   "outputs": [
    {
     "name": "stdout",
     "output_type": "stream",
     "text": [
      "{'max_depth': None, 'max_features': 'auto', 'min_samples_leaf': 1, 'min_samples_split': 2, 'n_estimators': 100}\n"
     ]
    }
   ],
   "source": [
    "from sklearn.ensemble import RandomForestRegressor\n",
    "from sklearn.model_selection import GridSearchCV\n",
    "\n",
    "\n",
    "# Split the dataset into features and target\n",
    "X = df_with_ENSTScore.iloc[:, ~df_with_ENSTScore.columns.isin(targets)]\n",
    "y = df_with_ENSTScore.loc[:, target1]\n",
    "\n",
    "# Define the model\n",
    "model = RandomForestRegressor()\n",
    "\n",
    "# Define the hyperparameters to tune\n",
    "param_grid = {'n_estimators': [50, 100, 150, 200],\n",
    "              'max_depth': [5, 10, 15, None],\n",
    "              'min_samples_split': [2, 5, 10],\n",
    "              'min_samples_leaf': [1, 2, 4],\n",
    "              'max_features': ['auto', 'sqrt', 'log2']}\n",
    "\n",
    "# Perform the grid search\n",
    "grid = GridSearchCV(model, param_grid, cv=5)\n",
    "grid.fit(X, y)\n",
    "\n",
    "# Print the best hyperparameters\n",
    "print(grid.best_params_)"
   ]
  },
  {
   "cell_type": "markdown",
   "metadata": {},
   "source": [
    "- ### Random Forest"
   ]
  },
  {
   "cell_type": "code",
   "execution_count": 96,
   "metadata": {},
   "outputs": [
    {
     "name": "stdout",
     "output_type": "stream",
     "text": [
      "RMSE: 679.0482381827553\n",
      "MSE: 582969.617468917\n",
      "MAE: 47.106815175879404\n",
      "R^2: 0.9248075966912976\n"
     ]
    }
   ],
   "source": [
    "import numpy as np\n",
    "import pandas as pd\n",
    "from sklearn.ensemble import RandomForestRegressor\n",
    "from sklearn.model_selection import cross_val_score\n",
    "from sklearn.preprocessing import RobustScaler\n",
    "from sklearn.metrics import mean_squared_error, mean_absolute_error, r2_score\n",
    "\n",
    "# Definition of target and features variables\n",
    "\n",
    "X = df_with_ENSTScore.iloc[:, ~df_with_ENSTScore.columns.isin(targets)]\n",
    "y = df_with_ENSTScore.loc[:, target2]\n",
    "\n",
    "\n",
    "# Robustly scale the features\n",
    "scaler = RobustScaler()\n",
    "X = scaler.fit_transform(X)\n",
    "\n",
    "# Fit a Random Forest regression model\n",
    "reg = RandomForestRegressor(n_estimators=100, max_features='auto', min_samples_leaf=1, min_samples_split= 2)\n",
    "reg.fit(X, y)\n",
    "\n",
    "# Perform cross-validation\n",
    "cv_results = cross_val_score(reg, X, y, cv=5, scoring='neg_mean_squared_error')\n",
    "\n",
    "# Calculate the RMSE, MSE, MAE, and R^2\n",
    "rmse = np.sqrt(-cv_results).mean()\n",
    "mse = -cv_results.mean()\n",
    "mae = mean_absolute_error(y, reg.predict(X))\n",
    "r2 = reg.score(X, y)\n",
    "\n",
    "print(\"RMSE:\", rmse)\n",
    "print(\"MSE:\", mse)\n",
    "print(\"MAE:\", mae)\n",
    "print(\"R^2:\", r2)\n"
   ]
  },
  {
   "cell_type": "markdown",
   "metadata": {},
   "source": [
    "# The best model is RadomForest with ENERGYSTARScore\n",
    "- **Smaller MAE (46) and higher R squared (0.92).**"
   ]
  },
  {
   "cell_type": "code",
   "execution_count": 64,
   "metadata": {},
   "outputs": [
    {
     "data": {
      "image/png": "[encoded data removed]",
      "text/plain": [
       "<Figure size 640x480 with 1 Axes>"
      ]
     },
     "metadata": {},
     "output_type": "display_data"
    }
   ],
   "source": [
    "import seaborn as sns\n",
    "import matplotlib.pyplot as plt\n",
    "import pandas as pd\n",
    "\n",
    "# Create a dataframe with your data\n",
    "data = {\"Algorithm\": [\"Linear Regression\", \"Ridge model\", \"SGDRegressor\", \"Random Forest\"], \"Rsquared\": [0.50, 0.14, 0.37, 0.92]}\n",
    "df = pd.DataFrame(data)\n",
    "\n",
    "sns.set_style(\"darkgrid\")\n",
    "\n",
    "# Create a bar plot using seaborn\n",
    "ax = sns.barplot(x=\"Algorithm\", y=\"Rsquared\", data=df)\n",
    "\n",
    "# Add the values on top of the bars\n",
    "for i, value in enumerate(df[\"Rsquared\"]):\n",
    "    ax.annotate(\"%.2f\" % value, xy=(i, value), xytext=(0, 10), textcoords=\"offset points\", ha=\"center\")\n",
    "\n",
    "\n",
    "# Show the plot\n",
    "plt.show()\n",
    "\n"
   ]
  },
  {
   "cell_type": "code",
   "execution_count": 65,
   "metadata": {},
   "outputs": [
    {
     "data": {
      "image/png": "[encoded data removed]",
      "text/plain": [
       "<Figure size 640x480 with 1 Axes>"
      ]
     },
     "metadata": {},
     "output_type": "display_data"
    }
   ],
   "source": [
    "import seaborn as sns\n",
    "import matplotlib.pyplot as plt\n",
    "import pandas as pd\n",
    "\n",
    "# Create a dataframe with your data\n",
    "data = {\"Algorithm\": [\"Linear Regression\", \"Ridge model\", \"SGDRegressor\", \"Random Forest\"], \"MAE\":[208, 202, 202, 46]}\n",
    "df = pd.DataFrame(data)\n",
    "\n",
    "sns.set_style(\"darkgrid\")\n",
    "\n",
    "# Create a bar plot using seaborn\n",
    "ax = sns.barplot(x=\"Algorithm\", y=\"MAE\", data=df, palette=\"deep\")\n",
    "\n",
    "# Add the values on top of the bars\n",
    "# Add the values on top of the bars\n",
    "for i, value in enumerate(df[\"MAE\"]):\n",
    "    ax.annotate(\"%.2f\" % value, xy=(i, value), xytext=(0, 10), textcoords=\"offset points\", ha=\"center\")\n",
    "\n",
    "\n",
    "# Show the plot\n",
    "plt.show()\n"
   ]
  },
  {
   "cell_type": "markdown",
   "metadata": {},
   "source": [
    "## Feature Importance avec Energy Star Score\n",
    "\n",
    "Les variables ci-dessous comptent pour plus de 80% de la prévision :\n",
    "- GFAPerBuilding: 0.6567\n",
    "- ENERGYSTARScore: 0.0931\n",
    "- PrimaryPropertyType_Warehouse: 0.0283\n",
    "- GFAPerFloor: 0.0256"
   ]
  },
  {
   "cell_type": "code",
   "execution_count": 97,
   "metadata": {},
   "outputs": [],
   "source": [
    "from sklearn.ensemble import RandomForestRegressor\n",
    "\n",
    "\n",
    "# Split the dataset into features and target\n",
    "X = df_with_ENSTScore.iloc[:, ~df_with_ENSTScore.columns.isin(targets)]\n",
    "y = df_with_ENSTScore.loc[:, target1]\n",
    "\n",
    "# Define the model\n",
    "model = RandomForestRegressor(n_estimators=100)\n",
    "\n",
    "# Train the model on the data\n",
    "model.fit(X, y)\n",
    "\n",
    "# Get the feature importances\n",
    "importances = model.feature_importances_\n",
    "\n",
    "# Get the column names\n",
    "feature_names = X.columns\n",
    "\n",
    "# Sort the feature importances in descending order\n",
    "indices = importances.argsort()[::-1]\n",
    "\n",
    "# Print the feature importances and column names in descending order\n",
    "for i in indices:\n",
    "    print(\"{}: {:.4f}\".format(feature_names[i], importances[i]));"
   ]
  },
  {
   "cell_type": "code",
   "execution_count": 1,
   "metadata": {},
   "outputs": [
    {
     "data": {
      "image/png": "[encoded data removed]",
      "text/plain": [
       "<Figure size 640x480 with 1 Axes>"
      ]
     },
     "metadata": {},
     "output_type": "display_data"
    }
   ],
   "source": [
    "import matplotlib.pyplot as plt\n",
    "\n",
    "# Feature names and values\n",
    "feature_names = [\"GFAPerBuilding\", \"ENERGYSTARScore\", \"PrimaryPropertyType_Warehouse\", \"GFAPerFloor\"]\n",
    "feature_values = [0.6600, 0.0927, 0.0274, 0.0260]\n",
    "\n",
    "# Plot the histogram\n",
    "plt.bar(feature_names, feature_values)\n",
    "plt.title(\"Histogram of Features\")\n",
    "plt.xlabel(\"Features\")\n",
    "plt.ylabel(\"Feature Values\")\n",
    "\n",
    "# Rotate x-axis labels\n",
    "plt.xticks(rotation=90)\n",
    "\n",
    "# Add numbers on top of each feature bar\n",
    "for i, val in enumerate(feature_values):\n",
    "    plt.text(i, val, str(val), horizontalalignment='center', verticalalignment='bottom')\n",
    "\n",
    "# Display the plot\n",
    "plt.show()\n"
   ]
  },
  {
   "cell_type": "code",
   "execution_count": null,
   "metadata": {},
   "outputs": [],
   "source": []
  }
 ],
 "metadata": {
  "kernelspec": {
   "display_name": "Python 3 (ipykernel)",
   "language": "python",
   "name": "python3"
  },
  "language_info": {
   "codemirror_mode": {
    "name": "ipython",
    "version": 3
   },
   "file_extension": ".py",
   "mimetype": "text/x-python",
   "name": "python",
   "nbconvert_exporter": "python",
   "pygments_lexer": "ipython3",
   "version": "3.9.13"
  }
 },
 "nbformat": 4,
 "nbformat_minor": 1
}
